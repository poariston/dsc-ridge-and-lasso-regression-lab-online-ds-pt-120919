{
 "cells": [
  {
   "cell_type": "markdown",
   "metadata": {},
   "source": [
    "# Ridge and Lasso Regression - Lab"
   ]
  },
  {
   "cell_type": "markdown",
   "metadata": {},
   "source": [
    "## Introduction"
   ]
  },
  {
   "cell_type": "markdown",
   "metadata": {},
   "source": [
    "In this lab, you'll practice your knowledge of Ridge and Lasso regression!"
   ]
  },
  {
   "cell_type": "markdown",
   "metadata": {},
   "source": [
    "## Objectives"
   ]
  },
  {
   "cell_type": "markdown",
   "metadata": {},
   "source": [
    "In this lab you will: \n",
    "\n",
    "- Use Lasso and Ridge regression with scikit-learn \n",
    "- Compare and contrast Lasso, Ridge and non-regularized regression "
   ]
  },
  {
   "cell_type": "markdown",
   "metadata": {},
   "source": [
    "## Housing Prices Data"
   ]
  },
  {
   "cell_type": "markdown",
   "metadata": {},
   "source": [
    "Let's look at yet another house pricing dataset: "
   ]
  },
  {
   "cell_type": "code",
   "execution_count": 1,
   "metadata": {},
   "outputs": [],
   "source": [
    "import pandas as pd\n",
    "import numpy as np\n",
    "from sklearn.model_selection import train_test_split\n",
    "import warnings\n",
    "warnings.filterwarnings('ignore')\n",
    "\n",
    "df = pd.read_csv('Housing_Prices/train.csv')"
   ]
  },
  {
   "cell_type": "markdown",
   "metadata": {},
   "source": [
    "Look at `.info()` of the data: "
   ]
  },
  {
   "cell_type": "code",
   "execution_count": 2,
   "metadata": {},
   "outputs": [
    {
     "name": "stdout",
     "output_type": "stream",
     "text": [
      "<class 'pandas.core.frame.DataFrame'>\n",
      "RangeIndex: 1460 entries, 0 to 1459\n",
      "Data columns (total 81 columns):\n",
      "Id               1460 non-null int64\n",
      "MSSubClass       1460 non-null int64\n",
      "MSZoning         1460 non-null object\n",
      "LotFrontage      1201 non-null float64\n",
      "LotArea          1460 non-null int64\n",
      "Street           1460 non-null object\n",
      "Alley            91 non-null object\n",
      "LotShape         1460 non-null object\n",
      "LandContour      1460 non-null object\n",
      "Utilities        1460 non-null object\n",
      "LotConfig        1460 non-null object\n",
      "LandSlope        1460 non-null object\n",
      "Neighborhood     1460 non-null object\n",
      "Condition1       1460 non-null object\n",
      "Condition2       1460 non-null object\n",
      "BldgType         1460 non-null object\n",
      "HouseStyle       1460 non-null object\n",
      "OverallQual      1460 non-null int64\n",
      "OverallCond      1460 non-null int64\n",
      "YearBuilt        1460 non-null int64\n",
      "YearRemodAdd     1460 non-null int64\n",
      "RoofStyle        1460 non-null object\n",
      "RoofMatl         1460 non-null object\n",
      "Exterior1st      1460 non-null object\n",
      "Exterior2nd      1460 non-null object\n",
      "MasVnrType       1452 non-null object\n",
      "MasVnrArea       1452 non-null float64\n",
      "ExterQual        1460 non-null object\n",
      "ExterCond        1460 non-null object\n",
      "Foundation       1460 non-null object\n",
      "BsmtQual         1423 non-null object\n",
      "BsmtCond         1423 non-null object\n",
      "BsmtExposure     1422 non-null object\n",
      "BsmtFinType1     1423 non-null object\n",
      "BsmtFinSF1       1460 non-null int64\n",
      "BsmtFinType2     1422 non-null object\n",
      "BsmtFinSF2       1460 non-null int64\n",
      "BsmtUnfSF        1460 non-null int64\n",
      "TotalBsmtSF      1460 non-null int64\n",
      "Heating          1460 non-null object\n",
      "HeatingQC        1460 non-null object\n",
      "CentralAir       1460 non-null object\n",
      "Electrical       1459 non-null object\n",
      "1stFlrSF         1460 non-null int64\n",
      "2ndFlrSF         1460 non-null int64\n",
      "LowQualFinSF     1460 non-null int64\n",
      "GrLivArea        1460 non-null int64\n",
      "BsmtFullBath     1460 non-null int64\n",
      "BsmtHalfBath     1460 non-null int64\n",
      "FullBath         1460 non-null int64\n",
      "HalfBath         1460 non-null int64\n",
      "BedroomAbvGr     1460 non-null int64\n",
      "KitchenAbvGr     1460 non-null int64\n",
      "KitchenQual      1460 non-null object\n",
      "TotRmsAbvGrd     1460 non-null int64\n",
      "Functional       1460 non-null object\n",
      "Fireplaces       1460 non-null int64\n",
      "FireplaceQu      770 non-null object\n",
      "GarageType       1379 non-null object\n",
      "GarageYrBlt      1379 non-null float64\n",
      "GarageFinish     1379 non-null object\n",
      "GarageCars       1460 non-null int64\n",
      "GarageArea       1460 non-null int64\n",
      "GarageQual       1379 non-null object\n",
      "GarageCond       1379 non-null object\n",
      "PavedDrive       1460 non-null object\n",
      "WoodDeckSF       1460 non-null int64\n",
      "OpenPorchSF      1460 non-null int64\n",
      "EnclosedPorch    1460 non-null int64\n",
      "3SsnPorch        1460 non-null int64\n",
      "ScreenPorch      1460 non-null int64\n",
      "PoolArea         1460 non-null int64\n",
      "PoolQC           7 non-null object\n",
      "Fence            281 non-null object\n",
      "MiscFeature      54 non-null object\n",
      "MiscVal          1460 non-null int64\n",
      "MoSold           1460 non-null int64\n",
      "YrSold           1460 non-null int64\n",
      "SaleType         1460 non-null object\n",
      "SaleCondition    1460 non-null object\n",
      "SalePrice        1460 non-null int64\n",
      "dtypes: float64(3), int64(35), object(43)\n",
      "memory usage: 924.0+ KB\n"
     ]
    }
   ],
   "source": [
    "df.info()"
   ]
  },
  {
   "cell_type": "code",
   "execution_count": 3,
   "metadata": {},
   "outputs": [
    {
     "data": {
      "text/plain": [
       "(1460, 81)"
      ]
     },
     "execution_count": 3,
     "metadata": {},
     "output_type": "execute_result"
    }
   ],
   "source": [
    "df.shape"
   ]
  },
  {
   "cell_type": "markdown",
   "metadata": {},
   "source": [
    "- First, split the data into `X` (predictor) and `y` (target) variables \n",
    "- Split the data into 75-25 training-test sets. Set the `random_state` to 10 \n",
    "- Remove all columns of `object` type from `X_train` and `X_test` and assign them to `X_train_cont` and `X_test_cont`, respectively "
   ]
  },
  {
   "cell_type": "code",
   "execution_count": 4,
   "metadata": {},
   "outputs": [],
   "source": [
    "# Create X and y\n",
    "y = df['SalePrice']\n",
    "X = df.iloc[:,:-1]"
   ]
  },
  {
   "cell_type": "code",
   "execution_count": 5,
   "metadata": {},
   "outputs": [
    {
     "data": {
      "text/plain": [
       "'Alley'"
      ]
     },
     "execution_count": 5,
     "metadata": {},
     "output_type": "execute_result"
    }
   ],
   "source": [
    "X.columns[6]"
   ]
  },
  {
   "cell_type": "code",
   "execution_count": 6,
   "metadata": {},
   "outputs": [
    {
     "data": {
      "text/plain": [
       "((1095, 80), (1095, 37))"
      ]
     },
     "execution_count": 6,
     "metadata": {},
     "output_type": "execute_result"
    }
   ],
   "source": [
    "\n",
    "\n",
    "\n",
    "# Split data into training and test sets\n",
    "X_train, X_test, y_train, y_test = train_test_split(X,y,test_size=.25,random_state=10)\n",
    "\n",
    "# Remove \"object\"-type features from X\n",
    "l=X.dtypes\n",
    "cont_features=X.copy()\n",
    "for idx,elem in enumerate(l):\n",
    "    if elem == object:\n",
    "        col_name_to_drop=X.columns[idx]\n",
    "        cont_features=cont_features.drop(col_name_to_drop,1)\n",
    "    \n",
    "\n",
    "\n",
    "\n",
    "# Remove \"object\"-type features from X_train and X_test\n",
    "\n",
    "ll=X_train.dtypes\n",
    "X_train_cont=X_train.copy()\n",
    "for idx,elem in enumerate(ll):\n",
    "    if elem == object:\n",
    "        col_name_to_drop=X_train.columns[idx]\n",
    "        X_train_cont=X_train_cont.drop(col_name_to_drop,1)\n",
    "\n",
    "        \n",
    "lll=X_test.dtypes\n",
    "X_test_cont=X_test.copy()\n",
    "for idx,elem in enumerate(lll):\n",
    "    if elem == object:\n",
    "        col_name_to_drop=X_test.columns[idx]\n",
    "        X_test_cont=X_test_cont.drop(col_name_to_drop,1)\n",
    "\n",
    "        \n",
    "X_train.shape,X_train_cont.shape"
   ]
  },
  {
   "cell_type": "markdown",
   "metadata": {},
   "source": [
    "## Let's use this data to build a first naive linear regression model"
   ]
  },
  {
   "cell_type": "markdown",
   "metadata": {},
   "source": [
    "- Fill the missing values in data using median of the columns (use [`SimpleImputer`](https://scikit-learn.org/stable/modules/generated/sklearn.impute.SimpleImputer.html)) \n",
    "- Fit a linear regression model to this data \n",
    "- Compute the R-squared and the MSE for both the training and test sets \n"
   ]
  },
  {
   "cell_type": "code",
   "execution_count": 7,
   "metadata": {},
   "outputs": [
    {
     "data": {
      "text/plain": [
       "nan"
      ]
     },
     "execution_count": 7,
     "metadata": {},
     "output_type": "execute_result"
    }
   ],
   "source": [
    "X_test_cont.LotFrontage[816]"
   ]
  },
  {
   "cell_type": "code",
   "execution_count": 8,
   "metadata": {},
   "outputs": [
    {
     "data": {
      "text/plain": [
       "413     1927.0\n",
       "603     2004.0\n",
       "498     1967.0\n",
       "565     1920.0\n",
       "299     1950.0\n",
       "1337       NaN\n",
       "1012    1923.0\n",
       "501     2005.0\n",
       "981     1998.0\n",
       "1424    1970.0\n",
       "1015    2001.0\n",
       "596     1930.0\n",
       "431        NaN\n",
       "1382    1989.0\n",
       "704     2004.0\n",
       "Name: GarageYrBlt, dtype: float64"
      ]
     },
     "execution_count": 8,
     "metadata": {},
     "output_type": "execute_result"
    }
   ],
   "source": [
    "X_test_cont.GarageYrBlt[30:45]      \n",
    "\n",
    "\n"
   ]
  },
  {
   "cell_type": "code",
   "execution_count": 9,
   "metadata": {},
   "outputs": [
    {
     "name": "stdout",
     "output_type": "stream",
     "text": [
      "nan\n",
      "70.0\n",
      "413     1927.0\n",
      "603     2004.0\n",
      "498     1967.0\n",
      "565     1920.0\n",
      "299     1950.0\n",
      "1337       NaN\n",
      "1012    1923.0\n",
      "501     2005.0\n",
      "981     1998.0\n",
      "1424    1970.0\n",
      "1015    2001.0\n",
      "596     1930.0\n",
      "431        NaN\n",
      "1382    1989.0\n",
      "704     2004.0\n",
      "Name: GarageYrBlt, dtype: float64\n",
      "30    1927.0\n",
      "31    2004.0\n",
      "32    1967.0\n",
      "33    1920.0\n",
      "34    1950.0\n",
      "35    1980.0\n",
      "36    1923.0\n",
      "37    2005.0\n",
      "38    1998.0\n",
      "39    1970.0\n",
      "40    2001.0\n",
      "41    1930.0\n",
      "42    1980.0\n",
      "43    1989.0\n",
      "44    2004.0\n",
      "Name: GarageYrBlt, dtype: float64\n",
      "[ 2.60736661e-01 -1.67051460e+02 -9.49365740e+01  4.34614927e-01\n",
      "  1.79972399e+04  4.70791462e+03  3.12145759e+02  1.19420406e+02\n",
      "  2.96472742e+01  7.46392008e+00 -4.54314837e+00  4.49817991e-01\n",
      "  3.37058969e+00  1.91279618e+01  2.16978544e+01 -8.37469386e+00\n",
      "  3.24511224e+01  1.09400625e+04  5.10342852e+03  2.66566407e+03\n",
      " -6.15547667e+03 -8.16845443e+03 -1.53878807e+04  4.41650799e+03\n",
      "  3.14455346e+03  9.54122165e+01  1.34602713e+04 -8.99882998e+00\n",
      "  3.70388769e+01 -8.45648480e-01  1.14488176e+01  3.85935174e+01\n",
      "  5.53863340e+01 -1.19186027e+01 -1.28106114e-01  9.21656928e+01\n",
      " -8.02729853e+02]\n",
      "515099.4712473265\n",
      "R2 train :  0.8069714678400264\n",
      "R2 test :  0.8203264293698906\n",
      "MSE train :  1212415985.708407\n",
      "MSE test :  1146350639.8805857\n",
      "Training r^2: 0.8069714678400263\n",
      "Test r^2: 0.8203264293698906\n"
     ]
    }
   ],
   "source": [
    "from sklearn.metrics import mean_squared_error, r2_score\n",
    "from sklearn.linear_model import LinearRegression\n",
    "from sklearn.impute import SimpleImputer\n",
    "\n",
    "# Impute missing values with median using SimpleImputer\n",
    "impute = SimpleImputer(strategy='median')\n",
    "X_train_imputed = impute.fit_transform(X_train_cont)\n",
    "# NOTE: THE MODEL IS FITTED ON THE TRAIN TEST.\n",
    "# SO, WE ARE USING ONLY VALUES FROM THE TRAINING SAMPLE TO CALCULATE THE MEDIAN.\n",
    "# WE DON'T WANT LEAKAGE OF THE TEST SET  BECAUSE WE ARE NOT SUPPOSED TO KNOW THE TEST SET.\n",
    "X_test_imputed = impute.transform(X_test_cont)\n",
    "\n",
    "X_test_imputeddf=pd.DataFrame(X_test_imputed)\n",
    "X_test_imputeddf.columns =X_test_cont.columns\n",
    "print(X_test_cont.LotFrontage[816])\n",
    "print(X_test_imputeddf.LotFrontage[2])\n",
    "print(X_test_cont.GarageYrBlt[30:45])    \n",
    "print(X_test_imputeddf.GarageYrBlt[30:45])     \n",
    "\n",
    "\n",
    "# Fit the model and print R2 and MSE for training and test sets\n",
    "linreg = LinearRegression()\n",
    "model=linreg.fit(X_train_imputed,y_train)\n",
    "print( model.coef_ )\n",
    "print(model.intercept_)\n",
    "y_train_hat=model.predict(X_train_imputed)\n",
    "y_test_hat=model.predict(X_test_imputed)\n",
    "\n",
    "# Print R2 and MSE for training and test sets\n",
    "print('R2 train : ',r2_score(y_train,y_train_hat))\n",
    "print('R2 test : ',r2_score(y_test,y_test_hat))\n",
    "print('MSE train : ',mean_squared_error(y_train,y_train_hat))\n",
    "print('MSE test : ',mean_squared_error(y_test,y_test_hat))\n",
    "\n",
    "print('Training r^2:', model.score(X_train_imputed, y_train))\n",
    "print('Test r^2:', model.score(X_test_imputed, y_test))"
   ]
  },
  {
   "cell_type": "markdown",
   "metadata": {},
   "source": [
    "## Normalize your data"
   ]
  },
  {
   "cell_type": "markdown",
   "metadata": {},
   "source": [
    "- Normalize your data using a `StandardScalar`  \n",
    "- Fit a linear regression model to this data \n",
    "- Compute the R-squared and the MSE for both the training and test sets \n"
   ]
  },
  {
   "cell_type": "code",
   "execution_count": 10,
   "metadata": {},
   "outputs": [
    {
     "name": "stdout",
     "output_type": "stream",
     "text": [
      "R2 train :  0.8069838175643864\n",
      "R2 test :  0.8202958400345651\n",
      "MSE train :  1212338416.848168\n",
      "MSE test :  1146545805.502335\n"
     ]
    }
   ],
   "source": [
    "from sklearn.preprocessing import StandardScaler\n",
    "\n",
    "# Scale the train and test data\n",
    "scaler = StandardScaler()\n",
    "X_train_imputed_scaled = scaler.fit_transform(X_train_imputed)\n",
    "X_test_imputed_scaled = scaler.transform(X_test_imputed)\n",
    "\n",
    "# Fit the model\n",
    "linreg_norm = LinearRegression()\n",
    "model2=linreg_norm.fit(X_train_imputed_scaled,y_train)\n",
    "# print( model2.coef_ )\n",
    "# print(model2.intercept_)\n",
    "y2_train_hat=model2.predict(X_train_imputed_scaled)\n",
    "y2_test_hat=model2.predict(X_test_imputed_scaled)\n",
    "\n",
    "# Print R2 and MSE for training and test sets\n",
    "print('R2 train : ',r2_score(y_train,y2_train_hat))\n",
    "print('R2 test : ',r2_score(y_test,y2_test_hat))\n",
    "print('MSE train : ',mean_squared_error(y_train,y2_train_hat))\n",
    "print('MSE test : ',mean_squared_error(y_test,y2_test_hat))\n",
    "\n"
   ]
  },
  {
   "cell_type": "markdown",
   "metadata": {},
   "source": [
    "## Include categorical variables"
   ]
  },
  {
   "cell_type": "markdown",
   "metadata": {},
   "source": [
    "The above models didn't include categorical variables so far, let's include them! \n",
    "\n",
    "\n",
    "- Include all columns of `object` type from `X_train` and `X_test` and assign them to `X_train_cat` and `X_test_cat`, respectively \n",
    "- Fill missing values in all these columns with the string `'missing'` "
   ]
  },
  {
   "cell_type": "code",
   "execution_count": 11,
   "metadata": {},
   "outputs": [
    {
     "data": {
      "text/plain": [
       "Index(['Id', 'MSSubClass', 'MSZoning', 'LotFrontage', 'LotArea', 'Street',\n",
       "       'Alley', 'LotShape', 'LandContour', 'Utilities', 'LotConfig',\n",
       "       'LandSlope', 'Neighborhood', 'Condition1', 'Condition2', 'BldgType',\n",
       "       'HouseStyle', 'OverallQual', 'OverallCond', 'YearBuilt', 'YearRemodAdd',\n",
       "       'RoofStyle', 'RoofMatl', 'Exterior1st', 'Exterior2nd', 'MasVnrType',\n",
       "       'MasVnrArea', 'ExterQual', 'ExterCond', 'Foundation', 'BsmtQual',\n",
       "       'BsmtCond', 'BsmtExposure', 'BsmtFinType1', 'BsmtFinSF1',\n",
       "       'BsmtFinType2', 'BsmtFinSF2', 'BsmtUnfSF', 'TotalBsmtSF', 'Heating',\n",
       "       'HeatingQC', 'CentralAir', 'Electrical', '1stFlrSF', '2ndFlrSF',\n",
       "       'LowQualFinSF', 'GrLivArea', 'BsmtFullBath', 'BsmtHalfBath', 'FullBath',\n",
       "       'HalfBath', 'BedroomAbvGr', 'KitchenAbvGr', 'KitchenQual',\n",
       "       'TotRmsAbvGrd', 'Functional', 'Fireplaces', 'FireplaceQu', 'GarageType',\n",
       "       'GarageYrBlt', 'GarageFinish', 'GarageCars', 'GarageArea', 'GarageQual',\n",
       "       'GarageCond', 'PavedDrive', 'WoodDeckSF', 'OpenPorchSF',\n",
       "       'EnclosedPorch', '3SsnPorch', 'ScreenPorch', 'PoolArea', 'PoolQC',\n",
       "       'Fence', 'MiscFeature', 'MiscVal', 'MoSold', 'YrSold', 'SaleType',\n",
       "       'SaleCondition'],\n",
       "      dtype='object')"
      ]
     },
     "execution_count": 11,
     "metadata": {},
     "output_type": "execute_result"
    }
   ],
   "source": [
    "X.columns"
   ]
  },
  {
   "cell_type": "code",
   "execution_count": 12,
   "metadata": {},
   "outputs": [
    {
     "data": {
      "text/plain": [
       "'LotConfig'"
      ]
     },
     "execution_count": 12,
     "metadata": {},
     "output_type": "execute_result"
    }
   ],
   "source": [
    "X.columns[10]"
   ]
  },
  {
   "cell_type": "code",
   "execution_count": 13,
   "metadata": {},
   "outputs": [
    {
     "data": {
      "text/plain": [
       "False"
      ]
     },
     "execution_count": 13,
     "metadata": {},
     "output_type": "execute_result"
    }
   ],
   "source": [
    "X['LotConfig'].dtypes != object"
   ]
  },
  {
   "cell_type": "code",
   "execution_count": 14,
   "metadata": {},
   "outputs": [
    {
     "data": {
      "text/plain": [
       "Id                 int64\n",
       "MSSubClass         int64\n",
       "MSZoning          object\n",
       "LotFrontage      float64\n",
       "LotArea            int64\n",
       "                  ...   \n",
       "MiscVal            int64\n",
       "MoSold             int64\n",
       "YrSold             int64\n",
       "SaleType          object\n",
       "SaleCondition     object\n",
       "Length: 80, dtype: object"
      ]
     },
     "execution_count": 14,
     "metadata": {},
     "output_type": "execute_result"
    }
   ],
   "source": [
    "X.dtypes"
   ]
  },
  {
   "cell_type": "code",
   "execution_count": 15,
   "metadata": {},
   "outputs": [],
   "source": [
    "# Create X_cat which contains only the categorical variables\n",
    "features_cat = X.copy()\n",
    "features_cat=[col for col in X.columns  if X[col].dtypes == object ]\n",
    "\n",
    "X_train_cat = X_train[features_cat]\n",
    "X_test_cat = X_test[features_cat]\n",
    "\n",
    "X_test.shape,X_test_cont.shape,X_test_cat.shape\n",
    "\n",
    "# Fill missing values with the string 'missing'\n",
    "X_train_cat.fillna(value='missing',inplace = True)\n",
    "X_test_cat.fillna(value='missing',inplace = True)\n"
   ]
  },
  {
   "cell_type": "markdown",
   "metadata": {},
   "source": [
    "- One-hot encode all these categorical columns using `OneHotEncoder` \n",
    "- Transform the training and test DataFrames (`X_train_cat`) and (`X_test_cat`) \n",
    "- Run the given code to convert these transformed features into DataFrames "
   ]
  },
  {
   "cell_type": "code",
   "execution_count": 16,
   "metadata": {},
   "outputs": [],
   "source": [
    "from sklearn.preprocessing import OneHotEncoder\n",
    "\n",
    "# OneHotEncode categorical variables\n",
    "ohe = OneHotEncoder(handle_unknown='ignore')\n",
    "\n",
    "# Transform training and test sets\n",
    "X_train_ohe = ohe.fit_transform(X_train_cat)\n",
    "X_test_ohe = ohe.transform(X_test_cat)\n",
    "\n",
    "# Convert these columns into a DataFrame\n",
    "columns = ohe.get_feature_names(input_features=X_train_cat.columns)\n",
    "cat_train_df = pd.DataFrame(X_train_ohe.todense(), columns=columns)\n",
    "cat_test_df = pd.DataFrame(X_test_ohe.todense(), columns=columns)\n"
   ]
  },
  {
   "cell_type": "markdown",
   "metadata": {},
   "source": [
    "- Combine `X_train_imputed_scaled` and `cat_train_df` into a single DataFrame  \n",
    "- Similarly, combine `X_test_imputed_scaled` and `cat_test_df` into a single DataFrame "
   ]
  },
  {
   "cell_type": "code",
   "execution_count": 17,
   "metadata": {},
   "outputs": [
    {
     "data": {
      "text/plain": [
       "(numpy.ndarray, pandas.core.frame.DataFrame)"
      ]
     },
     "execution_count": 17,
     "metadata": {},
     "output_type": "execute_result"
    }
   ],
   "source": [
    "type(X_train_imputed_scaled),type(cat_train_df)"
   ]
  },
  {
   "cell_type": "code",
   "execution_count": 18,
   "metadata": {},
   "outputs": [],
   "source": [
    "# Your code here\n",
    "X_train_all = pd.concat([ pd.DataFrame(X_train_imputed_scaled), cat_train_df],axis = 1)\n",
    "X_test_all = pd.concat([ pd.DataFrame(X_test_imputed_scaled), cat_test_df],axis = 1)"
   ]
  },
  {
   "cell_type": "code",
   "execution_count": 19,
   "metadata": {},
   "outputs": [
    {
     "data": {
      "text/plain": [
       "((1095, 296),\n",
       " (365, 296),\n",
       " Index([                      0,                       1,\n",
       "                              2,                       3,\n",
       "                              4,                       5,\n",
       "                              6,                       7,\n",
       "                              8,                       9,\n",
       "        ...\n",
       "               'SaleType_ConLw',          'SaleType_New',\n",
       "                 'SaleType_Oth',           'SaleType_WD',\n",
       "        'SaleCondition_Abnorml', 'SaleCondition_AdjLand',\n",
       "         'SaleCondition_Alloca',  'SaleCondition_Family',\n",
       "         'SaleCondition_Normal', 'SaleCondition_Partial'],\n",
       "       dtype='object', length=296))"
      ]
     },
     "execution_count": 19,
     "metadata": {},
     "output_type": "execute_result"
    }
   ],
   "source": [
    "X_train_all.shape,X_test_all.shape,X_train_all.columns\n"
   ]
  },
  {
   "cell_type": "markdown",
   "metadata": {},
   "source": [
    "Now build a linear regression model using all the features (`X_train_all`). Also, print the R-squared and the MSE for both the training and test sets. "
   ]
  },
  {
   "cell_type": "code",
   "execution_count": 20,
   "metadata": {},
   "outputs": [
    {
     "name": "stdout",
     "output_type": "stream",
     "text": [
      "401981271.7616438\n",
      "1.0974611036866281e+30\n",
      "0.9360006336450505\n",
      "-1.7201085624864106e+20\n"
     ]
    }
   ],
   "source": [
    "linregcat = LinearRegression()\n",
    "linregcat.fit(X_train_all,y_train)        \n",
    "y_train_cat_hat = linregcat.predict(X_train_all)\n",
    "y_test_cat_hat = linregcat.predict(X_test_all)\n",
    "print(mean_squared_error(y_train,y_train_cat_hat))\n",
    "print(mean_squared_error(y_test,y_test_cat_hat))\n",
    "print(r2_score(y_train,y_train_cat_hat))\n",
    "print(r2_score(y_test,y_test_cat_hat))"
   ]
  },
  {
   "cell_type": "markdown",
   "metadata": {},
   "source": [
    "Notice the severe overfitting above; our training R-squared is very high, but the test R-squared is negative! Similarly, the scale of the test MSE is orders of magnitude higher than that of the training MSE."
   ]
  },
  {
   "cell_type": "markdown",
   "metadata": {},
   "source": [
    "## Ridge and Lasso regression"
   ]
  },
  {
   "cell_type": "markdown",
   "metadata": {},
   "source": [
    "Use all the data (normalized features and dummy categorical variables, `X_train_all`) to build two models - one each for Lasso and Ridge regression. Each time, look at R-squared and MSE. "
   ]
  },
  {
   "cell_type": "markdown",
   "metadata": {},
   "source": [
    "## Lasso"
   ]
  },
  {
   "cell_type": "markdown",
   "metadata": {},
   "source": [
    "#### With default parameter (alpha = 1)"
   ]
  },
  {
   "cell_type": "code",
   "execution_count": 21,
   "metadata": {},
   "outputs": [
    {
     "name": "stdout",
     "output_type": "stream",
     "text": [
      "402185562.0947689\n",
      "710215967.2621557\n",
      "0.9359681086176651\n",
      "0.888684112594205\n"
     ]
    }
   ],
   "source": [
    "from sklearn.linear_model import Lasso, Ridge\n",
    "# Note that in scikit-learn, the regularization parameter is denoted by alpha (and not lambda)\n",
    "\n",
    "\n",
    "lasso = Lasso(alpha=1)\n",
    "lasso.fit(X_train_all,y_train)\n",
    "\n",
    "y_train_lasso_hat = lasso.predict(X_train_all)\n",
    "y_test_lasso_hat = lasso.predict(X_test_all)\n",
    "\n",
    "print(mean_squared_error(y_train,y_train_lasso_hat))\n",
    "print(mean_squared_error(y_test,y_test_lasso_hat))\n",
    "print(r2_score(y_train,y_train_lasso_hat))\n",
    "print(r2_score(y_test,y_test_lasso_hat))"
   ]
  },
  {
   "cell_type": "code",
   "execution_count": 22,
   "metadata": {},
   "outputs": [
    {
     "data": {
      "text/plain": [
       "34"
      ]
     },
     "execution_count": 22,
     "metadata": {},
     "output_type": "execute_result"
    }
   ],
   "source": [
    "np.sum(lasso.coef_ == 0)"
   ]
  },
  {
   "cell_type": "markdown",
   "metadata": {},
   "source": [
    "#### With a higher regularization parameter (alpha = 10)"
   ]
  },
  {
   "cell_type": "code",
   "execution_count": 23,
   "metadata": {},
   "outputs": [
    {
     "name": "stdout",
     "output_type": "stream",
     "text": [
      "412143851.3235962\n",
      "659215063.9643533\n",
      "0.9343826511712741\n",
      "0.8966777526569275\n"
     ]
    }
   ],
   "source": [
    "\n",
    "lasso = Lasso(alpha=10)\n",
    "lasso.fit(X_train_all,y_train)\n",
    "\n",
    "y_train_lasso_hat = lasso.predict(X_train_all)\n",
    "y_test_lasso_hat = lasso.predict(X_test_all)\n",
    "\n",
    "print(mean_squared_error(y_train,y_train_lasso_hat))\n",
    "print(mean_squared_error(y_test,y_test_lasso_hat))\n",
    "print(r2_score(y_train,y_train_lasso_hat))\n",
    "print(r2_score(y_test,y_test_lasso_hat))"
   ]
  },
  {
   "cell_type": "code",
   "execution_count": 24,
   "metadata": {},
   "outputs": [
    {
     "data": {
      "text/plain": [
       "76"
      ]
     },
     "execution_count": 24,
     "metadata": {},
     "output_type": "execute_result"
    }
   ],
   "source": [
    "np.sum(lasso.coef_ == 0)"
   ]
  },
  {
   "cell_type": "markdown",
   "metadata": {},
   "source": [
    "## Ridge"
   ]
  },
  {
   "cell_type": "markdown",
   "metadata": {},
   "source": [
    "#### With default parameter (alpha = 1)"
   ]
  },
  {
   "cell_type": "code",
   "execution_count": 25,
   "metadata": {},
   "outputs": [
    {
     "name": "stdout",
     "output_type": "stream",
     "text": [
      "482419834.3987995\n",
      "738614579.8334147\n",
      "0.9231940244796031\n",
      "0.8842330485444211\n"
     ]
    }
   ],
   "source": [
    "ridge = Ridge(alpha=1)\n",
    "ridge.fit(X_train_all,y_train)\n",
    "\n",
    "y_train_ridge_hat = ridge.predict(X_train_all)\n",
    "y_test_ridge_hat = ridge.predict(X_test_all)\n",
    "\n",
    "print(mean_squared_error(y_train,y_train_ridge_hat))\n",
    "print(mean_squared_error(y_test,y_test_ridge_hat))\n",
    "print(r2_score(y_train,y_train_ridge_hat))\n",
    "print(r2_score(y_test,y_test_ridge_hat))"
   ]
  },
  {
   "cell_type": "code",
   "execution_count": 26,
   "metadata": {},
   "outputs": [
    {
     "data": {
      "text/plain": [
       "0"
      ]
     },
     "execution_count": 26,
     "metadata": {},
     "output_type": "execute_result"
    }
   ],
   "source": [
    "np.sum(ridge.coef_ == 0)"
   ]
  },
  {
   "cell_type": "markdown",
   "metadata": {},
   "source": [
    "#### With default parameter (alpha = 10)"
   ]
  },
  {
   "cell_type": "code",
   "execution_count": 27,
   "metadata": {},
   "outputs": [
    {
     "name": "stdout",
     "output_type": "stream",
     "text": [
      "634381310.5991354\n",
      "743583635.452231\n",
      "0.8990002650425939\n",
      "0.8834542222982166\n"
     ]
    }
   ],
   "source": [
    "ridge = Ridge(alpha=10)\n",
    "ridge.fit(X_train_all,y_train)\n",
    "\n",
    "y_train_ridge_hat = ridge.predict(X_train_all)\n",
    "y_test_ridge_hat = ridge.predict(X_test_all)\n",
    "\n",
    "print(mean_squared_error(y_train,y_train_ridge_hat))\n",
    "print(mean_squared_error(y_test,y_test_ridge_hat))\n",
    "print(r2_score(y_train,y_train_ridge_hat))\n",
    "print(r2_score(y_test,y_test_ridge_hat))"
   ]
  },
  {
   "cell_type": "code",
   "execution_count": 28,
   "metadata": {},
   "outputs": [
    {
     "data": {
      "text/plain": [
       "0"
      ]
     },
     "execution_count": 28,
     "metadata": {},
     "output_type": "execute_result"
    }
   ],
   "source": [
    "np.sum(ridge.coef_ == 0)"
   ]
  },
  {
   "cell_type": "markdown",
   "metadata": {},
   "source": [
    "## Compare the metrics    \n",
    "\n",
    "Write your conclusions here: \n",
    "_________________________________\n",
    "When alpha (= lambda) increases, the model fits less the training set but genralizes better.\n",
    "\n",
    "lasso zeroes some coefficiients. When alpha (=lambda) increases, more coefficients are zeroed resulting in a simpler model."
   ]
  },
  {
   "cell_type": "markdown",
   "metadata": {},
   "source": [
    "## Compare number of parameter estimates that are (very close to) 0 for Ridge and Lasso\n",
    "\n",
    "Use 10**(-10) as an estimate that is very close to 0. "
   ]
  },
  {
   "cell_type": "code",
   "execution_count": 29,
   "metadata": {},
   "outputs": [
    {
     "data": {
      "text/plain": [
       "0"
      ]
     },
     "execution_count": 29,
     "metadata": {},
     "output_type": "execute_result"
    }
   ],
   "source": [
    "# Number of Ridge params almost zero\n",
    "np.sum(abs(ridge.coef_) <10**(-10))"
   ]
  },
  {
   "cell_type": "code",
   "execution_count": 30,
   "metadata": {},
   "outputs": [
    {
     "data": {
      "text/plain": [
       "77"
      ]
     },
     "execution_count": 30,
     "metadata": {},
     "output_type": "execute_result"
    }
   ],
   "source": [
    "# Number of Lasso params almost zero\n",
    "np.sum(abs(lasso.coef_) <10**(-10))"
   ]
  },
  {
   "cell_type": "code",
   "execution_count": 31,
   "metadata": {},
   "outputs": [
    {
     "name": "stdout",
     "output_type": "stream",
     "text": [
      "296\n",
      "0.26013513513513514\n"
     ]
    }
   ],
   "source": [
    "print(len(lasso.coef_))\n",
    "print(sum(abs(lasso.coef_) < 10**(-10))/ len(lasso.coef_))"
   ]
  },
  {
   "cell_type": "markdown",
   "metadata": {},
   "source": [
    "Lasso was very effective to essentially perform variable selection and remove about 25% of the variables from your model!"
   ]
  },
  {
   "cell_type": "markdown",
   "metadata": {},
   "source": [
    "## Put it all together"
   ]
  },
  {
   "cell_type": "markdown",
   "metadata": {},
   "source": [
    "To bring all of our work together lets take a moment to put all of our preprocessing steps for categorical and continuous variables into one function. This function should take in our features as a dataframe `X` and target as a Series `y` and return a training and test DataFrames with all of our preprocessed features along with training and test targets. "
   ]
  },
  {
   "cell_type": "code",
   "execution_count": 32,
   "metadata": {},
   "outputs": [],
   "source": [
    "from sklearn.metrics import mean_squared_error, r2_score\n",
    "from sklearn.linear_model import LinearRegression\n",
    "from sklearn.impute import SimpleImputer\n",
    "from sklearn.preprocessing import StandardScaler\n",
    "from sklearn.preprocessing import OneHotEncoder\n",
    "\n",
    "\n",
    "def preprocess(X, y):\n",
    "    '''Takes in features and target and implements all preprocessing steps for categorical and continuous features \n",
    "    returning  train and test DataFrames with targets\n",
    "    \n",
    "    X has all the features but not the target.\n",
    "    y has the target only\n",
    "    '''\n",
    "    \n",
    "    # Train-test split (75-25), set seed to 10\n",
    "    # Split data into training and test sets\n",
    "    X_train, X_test, y_train, y_test = train_test_split(X,y,test_size=.25,random_state=10)\n",
    "    \n",
    "    \n",
    "    # Remove \"object\"-type features from X_train and X_test\n",
    "\n",
    "    ll=X.dtypes\n",
    "    X_train_cont=X_train.copy()\n",
    "    for idx,elem in enumerate(ll):\n",
    "        if elem == object:\n",
    "            col_name_to_drop=X_train.columns[idx]\n",
    "            X_train_cont=X_train_cont.drop(col_name_to_drop,1)\n",
    "\n",
    "    X_test_cont=X_test.copy()\n",
    "    for idx,elem in enumerate(ll):\n",
    "        if elem == object:\n",
    "            col_name_to_drop=X_test.columns[idx]\n",
    "            X_test_cont=X_test_cont.drop(col_name_to_drop,1)\n",
    "\n",
    "    # Impute missing values with median using SimpleImputer\n",
    "    impute = SimpleImputer(strategy='median')\n",
    "    X_train_imputed = impute.fit_transform(X_train_cont)\n",
    "    # NOTE: THE MODEL IS FITTED ON THE TRAIN TEST.\n",
    "    # SO, WE ARE USING ONLY VALUES FROM THE TRAINING SAMPLE TO CALCULATE THE MEDIAN.\n",
    "    # WE DON'T WANT LEAKAGE OF THE TEST SET  BECAUSE WE ARE NOT SUPPOSED TO KNOW THE TEST SET.\n",
    "    X_test_imputed = impute.transform(X_test_cont)    \n",
    "\n",
    "\n",
    "    # Scale the train and test data\n",
    "    scaler = StandardScaler()\n",
    "    X_train_imputed_scaled = scaler.fit_transform(X_train_imputed)\n",
    "    # NOTE: THE MODEL IS FITTED ON THE TRAIN TEST.\n",
    "    X_test_imputed_scaled = scaler.transform(X_test_imputed)\n",
    "\n",
    "\n",
    "    # Create X_cat which contains only the categorical variables\n",
    "    features_cat = X.copy()\n",
    "    features_cat=[col for col in X.columns  if X[col].dtypes == object ]\n",
    "    X_train_cat = X_train[features_cat]\n",
    "    X_test_cat = X_test[features_cat]\n",
    "\n",
    "    # Fill nans with a value indicating that that it is missing\n",
    "    # Fill missing values with the string 'missing'\n",
    "    X_train_cat.fillna(value='missing',inplace = True)\n",
    "    X_test_cat.fillna(value='missing',inplace = True)\n",
    "\n",
    "    # OneHotEncode Categorical variables\n",
    "    ohe = OneHotEncoder(handle_unknown='ignore')\n",
    "    # Transform training and test sets\n",
    "    X_train_ohe = ohe.fit_transform(X_train_cat)\n",
    "    # NOTE: THE MODEL IS FITTED ON THE TRAIN TEST.\n",
    "    X_test_ohe = ohe.transform(X_test_cat)\n",
    "    # Convert these columns into a DataFrame\n",
    "    columns = ohe.get_feature_names(input_features=X_train_cat.columns)\n",
    "    cat_train_df = pd.DataFrame(X_train_ohe.todense(), columns=columns)\n",
    "    cat_test_df = pd.DataFrame(X_test_ohe.todense(), columns=columns)\n",
    "    \n",
    "    # Combine categorical and continuous features into the final dataframe\n",
    "    X_train_all = pd.concat([ pd.DataFrame(X_train_imputed_scaled), cat_train_df],axis = 1)\n",
    "    X_test_all = pd.concat([ pd.DataFrame(X_test_imputed_scaled), cat_test_df],axis = 1) \n",
    "    \n",
    "    return X_train_all, X_test_all, y_train, y_test"
   ]
  },
  {
   "cell_type": "code",
   "execution_count": 33,
   "metadata": {},
   "outputs": [
    {
     "data": {
      "text/plain": [
       "((1095, 296), (365, 296), (1095,), (365,))"
      ]
     },
     "execution_count": 33,
     "metadata": {},
     "output_type": "execute_result"
    }
   ],
   "source": [
    "X_train_all, X_test_all, y_train, y_test = preprocess(X, y)\n",
    "X_train_all.shape, X_test_all.shape, y_train.shape, y_test.shape"
   ]
  },
  {
   "cell_type": "markdown",
   "metadata": {},
   "source": [
    "### Graph the training and test error to find optimal alpha values\n",
    "\n",
    "Earlier we tested two values of alpha to see how it effected our MSE and the value of our coefficients. We could continue to guess values of alpha for our Ridge or Lasso regression one at a time to see which values minimize our loss, or we can test a range of values and pick the alpha which minimizes our MSE. Here is an example of how we would do this:  "
   ]
  },
  {
   "cell_type": "code",
   "execution_count": 38,
   "metadata": {},
   "outputs": [],
   "source": [
    "X_train_all, X_test_all, y_train, y_test = preprocess(X, y)\n",
    "\n",
    "train_mse = []\n",
    "train_r2 = []\n",
    "test_mse = []\n",
    "test_r2 = []\n",
    "alphas = []\n",
    "\n",
    "for alpha in np.linspace(0, 200, num=50):\n",
    "    lasso = Lasso(alpha=alpha)\n",
    "    lasso.fit(X_train_all, y_train)\n",
    "    \n",
    "    train_preds = lasso.predict(X_train_all)\n",
    "    train_mse.append(mean_squared_error(y_train, train_preds))\n",
    "    train_r2.append(r2_score(y_train, train_preds))\n",
    "\n",
    "    test_preds = lasso.predict(X_test_all)\n",
    "    test_mse.append(mean_squared_error(y_test, test_preds))\n",
    "    test_r2.append(r2_score(y_test, test_preds))\n",
    "    \n",
    "    alphas.append(alpha)"
   ]
  },
  {
   "cell_type": "code",
   "execution_count": 39,
   "metadata": {},
   "outputs": [
    {
     "name": "stdout",
     "output_type": "stream",
     "text": [
      "Optimal Alpha Value: 40\n"
     ]
    },
    {
     "data": {
      "image/png": "[encoded data removed]",
      "text/plain": [
       "<Figure size 432x288 with 1 Axes>"
      ]
     },
     "metadata": {
      "needs_background": "light"
     },
     "output_type": "display_data"
    }
   ],
   "source": [
    "import matplotlib.pyplot as plt\n",
    "%matplotlib inline\n",
    "\n",
    "fig, ax = plt.subplots()\n",
    "ax.plot(alphas, train_mse, label='Train')\n",
    "ax.plot(alphas, test_mse, label='Test')\n",
    "ax.set_xlabel('Alpha')\n",
    "ax.set_ylabel('MSE')\n",
    "\n",
    "# np.argmin() returns the index of the minimum value in a list\n",
    "optimal_alpha = alphas[np.argmin(test_mse)]\n",
    "\n",
    "# Add a vertical line where the test MSE is minimized\n",
    "ax.axvline(optimal_alpha, color='black', linestyle='--')\n",
    "ax.legend();\n",
    "\n",
    "print(f'Optimal Alpha Value: {int(optimal_alpha)}')"
   ]
  },
  {
   "cell_type": "code",
   "execution_count": 41,
   "metadata": {},
   "outputs": [
    {
     "name": "stdout",
     "output_type": "stream",
     "text": [
      "Optimal Alpha Value: 40\n"
     ]
    },
    {
     "data": {
      "image/png": "[encoded data removed]",
      "text/plain": [
       "<Figure size 432x288 with 1 Axes>"
      ]
     },
     "metadata": {
      "needs_background": "light"
     },
     "output_type": "display_data"
    }
   ],
   "source": [
    "import matplotlib.pyplot as plt\n",
    "%matplotlib inline\n",
    "\n",
    "fig, ax = plt.subplots()\n",
    "ax.plot(alphas, train_r2, label='Train')\n",
    "ax.plot(alphas, test_r2, label='Test')\n",
    "ax.set_xlabel('Alpha')\n",
    "ax.set_ylabel('R-squared')\n",
    "\n",
    "# np.argmin() returns the index of the minimum value in a list\n",
    "optimal_alpha = alphas[np.argmax(test_r2)]\n",
    "\n",
    "# Add a vertical line where the test MSE is minimized\n",
    "ax.axvline(optimal_alpha, color='black', linestyle='--')\n",
    "ax.legend();\n",
    "\n",
    "print(f'Optimal Alpha Value: {int(optimal_alpha)}')"
   ]
  },
  {
   "cell_type": "markdown",
   "metadata": {},
   "source": [
    "Take a look at this graph of our training and test MSE against alpha. Try to explain to yourself why the shapes of the training and test curves are this way. Make sure to think about what alpha represents and how it relates to overfitting vs underfitting."
   ]
  },
  {
   "cell_type": "markdown",
   "metadata": {},
   "source": [
    "## Summary\n",
    "\n",
    "Well done! You now know how to build Lasso and Ridge regression models, use them for feature selection and find an optimal value for $\\text{alpha}$. "
   ]
  }
 ],
 "metadata": {
  "kernelspec": {
   "display_name": "Python 3",
   "language": "python",
   "name": "python3"
  },
  "language_info": {
   "codemirror_mode": {
    "name": "ipython",
    "version": 3
   },
   "file_extension": ".py",
   "mimetype": "text/x-python",
   "name": "python",
   "nbconvert_exporter": "python",
   "pygments_lexer": "ipython3",
   "version": "3.6.9"
  }
 },
 "nbformat": 4,
 "nbformat_minor": 2
}
